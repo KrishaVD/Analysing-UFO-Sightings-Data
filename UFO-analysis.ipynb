{
  "cells": [
    {
      "cell_type": "code",
      "execution_count": null,
      "id": "4de86730-bf14-481c-8e7f-36ed7d447840",
      "metadata": {
        "ExecuteTime": {
          "end_time": "2023-06-20T11:14:51.119738+00:00",
          "start_time": "2023-06-20T11:14:50.808475+00:00"
        },
        "datalink": {
          "a0af955f-820d-4356-87bc-fb08126f2b0c": {
            "applied_filters": [],
            "dataframe_info": {
              "default_index_used": true,
              "orig_num_cols": 15,
              "orig_num_rows": 5,
              "orig_size_bytes": 640,
              "truncated_num_cols": 15,
              "truncated_num_rows": 5,
              "truncated_size_bytes": 640,
              "truncated_string_columns": []
            },
            "display_id": "a0af955f-820d-4356-87bc-fb08126f2b0c",
            "dx_settings": {
              "ALLOW_NOTEABLE_ATTRS": true,
              "COLUMN_SAMPLING_METHOD": "outer",
              "DB_LOCATION": ":memory:",
              "DEV_MODE": false,
              "DISPLAY_MAX_COLUMNS": 100,
              "DISPLAY_MAX_ROWS": 50000,
              "DISPLAY_MODE": "simple",
              "ENABLE_ASSIGNMENT": true,
              "ENABLE_DATALINK": true,
              "FLATTEN_COLUMN_VALUES": true,
              "FLATTEN_INDEX_VALUES": false,
              "GENERATE_DEX_METADATA": false,
              "HTML_TABLE_SCHEMA": false,
              "LOG_LEVEL": 30,
              "MAX_RENDER_SIZE_BYTES": 104857600,
              "MAX_STRING_LENGTH": 250,
              "NUM_PAST_SAMPLES_TRACKED": 3,
              "RANDOM_STATE": 12648430,
              "RESET_INDEX_VALUES": false,
              "ROW_SAMPLING_METHOD": "random",
              "SAMPLING_FACTOR": 0.1,
              "SAMPLING_METHOD": "random",
              "STRINGIFY_COLUMN_VALUES": true,
              "STRINGIFY_INDEX_VALUES": false
            },
            "sample_history": [],
            "sampling_time": "2023-06-20T11:14:50.959742",
            "user_variable_name": null,
            "variable_name": "unk_dataframe_1a5954aab61f4c48ade4936d9ef207ef"
          }
        },
        "dx": {
          "dashboard": {
            "multiViews": []
          },
          "fieldMetadata": {
            "contact": {
              "columnPosition": 15
            },
            "duration": {
              "columnPosition": 6
            },
            "eventDate": {
              "columnPosition": 3
            },
            "eventTime": {
              "columnPosition": 4
            },
            "firstName": {
              "columnPosition": 9
            },
            "index": {
              "columnPosition": 1
            },
            "lastName": {
              "columnPosition": 10
            },
            "latitude": {
              "columnPosition": 11
            },
            "longitude": {
              "columnPosition": 12
            },
            "physicalEvidence": {
              "columnPosition": 14,
              "sort": "desc"
            },
            "reportedTimestamp": {
              "columnPosition": 2
            },
            "researchOutcome": {
              "columnPosition": 16
            },
            "shape": {
              "columnPosition": 5
            },
            "sighting": {
              "columnPosition": 13
            },
            "weather": {
              "columnPosition": 8
            },
            "witnesses": {
              "columnPosition": 7
            }
          },
          "updated": 1687261115440,
          "views": [
            {
              "annotationRules": [],
              "chart": {},
              "chartMode": "grid",
              "confoRules": [],
              "decoration": {
                "footer": "",
                "subtitle": "",
                "title": "Table"
              },
              "facets": [],
              "filterSettings": {
                "SHOW_FILTER_PANEL": true,
                "filters": []
              },
              "id": "first-view",
              "isDefault": true,
              "type": "public",
              "userID": ""
            },
            {
              "annotationRules": [],
              "chart": {},
              "chartMode": "grid",
              "confoRules": [],
              "decoration": {
                "footer": "",
                "subtitle": "",
                "title": "Table"
              },
              "facets": [],
              "filterSettings": {
                "SHOW_FILTER_PANEL": true,
                "filters": []
              },
              "id": "first-view",
              "isDefault": true,
              "isTransitory": true,
              "type": "public",
              "userID": ""
            }
          ]
        },
        "noteable": {
          "cell_type": "code",
          "output_collection_id": "95e81be1-d2c3-4d0f-a484-83f27c1ae702"
        }
      },
      "outputs": [],
      "source": [
        "import pandas as pd\n",
        "\n",
        "# Load the dataset\n",
        "ufo_df = pd.read_csv('ufo_fullset.csv')\n",
        "\n",
        "# Display the first few rows of the dataset\n",
        "ufo_df.head()"
      ]
    },
    {
      "cell_type": "code",
      "execution_count": null,
      "id": "d1a34316-4f71-4a62-9f8c-679f50bb106f",
      "metadata": {
        "ExecuteTime": {
          "end_time": "2023-06-20T11:23:29.128402+00:00",
          "start_time": "2023-06-20T11:23:28.908415+00:00"
        },
        "datalink": {
          "7f5e68e5-e006-4b27-bf1b-b13a9bcff511": {
            "applied_filters": [],
            "dataframe_info": {
              "default_index_used": false,
              "orig_num_cols": 1,
              "orig_num_rows": 15,
              "orig_size_bytes": 240,
              "truncated_num_cols": 1,
              "truncated_num_rows": 15,
              "truncated_size_bytes": 240,
              "truncated_string_columns": []
            },
            "display_id": "7f5e68e5-e006-4b27-bf1b-b13a9bcff511",
            "dx_settings": {
              "ALLOW_NOTEABLE_ATTRS": true,
              "COLUMN_SAMPLING_METHOD": "outer",
              "DB_LOCATION": ":memory:",
              "DEV_MODE": false,
              "DISPLAY_MAX_COLUMNS": 100,
              "DISPLAY_MAX_ROWS": 50000,
              "DISPLAY_MODE": "simple",
              "ENABLE_ASSIGNMENT": true,
              "ENABLE_DATALINK": true,
              "FLATTEN_COLUMN_VALUES": true,
              "FLATTEN_INDEX_VALUES": false,
              "GENERATE_DEX_METADATA": false,
              "HTML_TABLE_SCHEMA": false,
              "LOG_LEVEL": 30,
              "MAX_RENDER_SIZE_BYTES": 104857600,
              "MAX_STRING_LENGTH": 250,
              "NUM_PAST_SAMPLES_TRACKED": 3,
              "RANDOM_STATE": 12648430,
              "RESET_INDEX_VALUES": false,
              "ROW_SAMPLING_METHOD": "random",
              "SAMPLING_FACTOR": 0.1,
              "SAMPLING_METHOD": "random",
              "STRINGIFY_COLUMN_VALUES": true,
              "STRINGIFY_INDEX_VALUES": false
            },
            "sample_history": [],
            "sampling_time": "2023-06-20T11:23:28.970979",
            "user_variable_name": null,
            "variable_name": "unk_dataframe_3d6d50e8252f478fb7c34c1ded6a6e36"
          }
        },
        "jupyter": {
          "outputs_hidden": false,
          "source_hidden": false
        },
        "noteable": {
          "cell_type": "code",
          "output_collection_id": "51e06d5c-c929-42c5-956c-f8fcd418e43b"
        }
      },
      "outputs": [],
      "source": [
        "ufo_df.isnull().sum()"
      ]
    },
    {
      "cell_type": "code",
      "execution_count": null,
      "id": "e915bba8-c828-4411-a9db-2d8b212ce471",
      "metadata": {
        "ExecuteTime": {
          "end_time": "2023-06-20T11:40:12.292287+00:00",
          "start_time": "2023-06-20T11:40:12.008883+00:00"
        },
        "datalink": {
          "595a30a2-c478-493a-b0c0-6ebf24768085": {
            "applied_filters": [],
            "dataframe_info": {
              "default_index_used": true,
              "orig_num_cols": 14,
              "orig_num_rows": 5,
              "orig_size_bytes": 600,
              "truncated_num_cols": 14,
              "truncated_num_rows": 5,
              "truncated_size_bytes": 600,
              "truncated_string_columns": []
            },
            "display_id": "595a30a2-c478-493a-b0c0-6ebf24768085",
            "dx_settings": {
              "ALLOW_NOTEABLE_ATTRS": true,
              "COLUMN_SAMPLING_METHOD": "outer",
              "DB_LOCATION": ":memory:",
              "DEV_MODE": false,
              "DISPLAY_MAX_COLUMNS": 100,
              "DISPLAY_MAX_ROWS": 50000,
              "DISPLAY_MODE": "simple",
              "ENABLE_ASSIGNMENT": true,
              "ENABLE_DATALINK": true,
              "FLATTEN_COLUMN_VALUES": true,
              "FLATTEN_INDEX_VALUES": false,
              "GENERATE_DEX_METADATA": false,
              "HTML_TABLE_SCHEMA": false,
              "LOG_LEVEL": 30,
              "MAX_RENDER_SIZE_BYTES": 104857600,
              "MAX_STRING_LENGTH": 250,
              "NUM_PAST_SAMPLES_TRACKED": 3,
              "RANDOM_STATE": 12648430,
              "RESET_INDEX_VALUES": false,
              "ROW_SAMPLING_METHOD": "random",
              "SAMPLING_FACTOR": 0.1,
              "SAMPLING_METHOD": "random",
              "STRINGIFY_COLUMN_VALUES": true,
              "STRINGIFY_INDEX_VALUES": false
            },
            "sample_history": [],
            "sampling_time": "2023-06-20T11:40:12.132565",
            "user_variable_name": null,
            "variable_name": "unk_dataframe_8c1a455796484ac0a7523ac6962e45b6"
          }
        },
        "noteable": {
          "cell_type": "code",
          "output_collection_id": "65e233bc-68e3-4d29-8631-555a13dfa1df"
        }
      },
      "outputs": [],
      "source": [
        "# Remove columns with missing data\n",
        "ufo_df = ufo_df.dropna(axis=1)\n",
        "\n",
        "# Convert 'Y' to 1 and 'N' to 0 in the 'sighting', 'physicalEvidence', and 'contact' columns\n",
        "cols_to_convert = ['sighting', 'physicalEvidence', 'contact']\n",
        "for col in cols_to_convert:\n",
        "    ufo_df[col] = ufo_df[col].map({'Y': 1, 'N': 0})\n",
        "\n",
        "# Display the first few rows of the updated dataset\n",
        "ufo_df.head()"
      ]
    },
    {
      "cell_type": "code",
      "execution_count": null,
      "id": "ec2a3d3a-c065-44e9-b0d7-949f122bd9b3",
      "metadata": {
        "ExecuteTime": {
          "end_time": "2023-06-20T11:50:50.868913+00:00",
          "start_time": "2023-06-20T11:50:50.708342+00:00"
        },
        "jupyter": {
          "outputs_hidden": false,
          "source_hidden": false
        },
        "noteable": {
          "cell_type": "code",
          "output_collection_id": "7d5060d9-6acd-4dc6-a30f-e9d5420d13b6"
        }
      },
      "outputs": [],
      "source": [
        "ufo_df.columns"
      ]
    },
    {
      "cell_type": "code",
      "execution_count": null,
      "id": "dcefcb21-64e0-4c6d-b4b9-14a3ec0fbfe2",
      "metadata": {
        "ExecuteTime": {
          "end_time": "2023-06-20T12:09:08.178221+00:00",
          "start_time": "2023-06-20T12:09:07.908632+00:00"
        },
        "datalink": {
          "55f7199b-8f1e-4af9-8e84-6ee2e3cf63b5": {
            "applied_filters": [],
            "dataframe_info": {
              "default_index_used": false,
              "orig_num_cols": 1,
              "orig_num_rows": 7889,
              "orig_size_bytes": 744551,
              "truncated_num_cols": 1,
              "truncated_num_rows": 7889,
              "truncated_size_bytes": 744551,
              "truncated_string_columns": []
            },
            "display_id": "55f7199b-8f1e-4af9-8e84-6ee2e3cf63b5",
            "dx_settings": {
              "ALLOW_NOTEABLE_ATTRS": true,
              "COLUMN_SAMPLING_METHOD": "outer",
              "DB_LOCATION": ":memory:",
              "DEV_MODE": false,
              "DISPLAY_MAX_COLUMNS": 100,
              "DISPLAY_MAX_ROWS": 50000,
              "DISPLAY_MODE": "simple",
              "ENABLE_ASSIGNMENT": true,
              "ENABLE_DATALINK": true,
              "FLATTEN_COLUMN_VALUES": true,
              "FLATTEN_INDEX_VALUES": false,
              "GENERATE_DEX_METADATA": false,
              "HTML_TABLE_SCHEMA": false,
              "LOG_LEVEL": 30,
              "MAX_RENDER_SIZE_BYTES": 104857600,
              "MAX_STRING_LENGTH": 250,
              "NUM_PAST_SAMPLES_TRACKED": 3,
              "RANDOM_STATE": 12648430,
              "RESET_INDEX_VALUES": false,
              "ROW_SAMPLING_METHOD": "random",
              "SAMPLING_FACTOR": 0.1,
              "SAMPLING_METHOD": "random",
              "STRINGIFY_COLUMN_VALUES": true,
              "STRINGIFY_INDEX_VALUES": false
            },
            "sample_history": [],
            "sampling_time": "2023-06-20T12:09:07.990051",
            "user_variable_name": null,
            "variable_name": "unk_dataframe_9d3f4c33613446efabbc87639225be45"
          }
        },
        "jupyter": {
          "outputs_hidden": false,
          "source_hidden": false
        },
        "noteable": {
          "cell_type": "code",
          "output_collection_id": "646430e2-1460-4843-b0a3-63a5bfc7eabf"
        }
      },
      "outputs": [],
      "source": [
        "\n",
        "\n",
        "# Group by location (latitude and longitude) and count the number of sightings\n",
        "sightings_by_location = ufo_df.groupby(['latitude', 'longitude']).size()\n",
        "\n",
        "# Display the locations with the highest frequency of UFO sightings\n",
        "sightings_by_location.sort_values(ascending=False)"
      ]
    },
    {
      "cell_type": "code",
      "execution_count": null,
      "id": "104c7620-97f4-41e4-b49b-33fc3b04ac09",
      "metadata": {
        "ExecuteTime": {
          "end_time": "2023-06-20T12:07:25.047501+00:00",
          "start_time": "2023-06-20T12:07:24.814233+00:00"
        },
        "datalink": {
          "209b8ff0-5e8f-43c5-88e7-d470d6de07e1": {
            "applied_filters": [],
            "dataframe_info": {
              "default_index_used": false,
              "orig_num_cols": 1,
              "orig_num_rows": 10,
              "orig_size_bytes": 650003,
              "truncated_num_cols": 1,
              "truncated_num_rows": 10,
              "truncated_size_bytes": 650003,
              "truncated_string_columns": []
            },
            "display_id": "209b8ff0-5e8f-43c5-88e7-d470d6de07e1",
            "dx_settings": {
              "ALLOW_NOTEABLE_ATTRS": true,
              "COLUMN_SAMPLING_METHOD": "outer",
              "DB_LOCATION": ":memory:",
              "DEV_MODE": false,
              "DISPLAY_MAX_COLUMNS": 100,
              "DISPLAY_MAX_ROWS": 50000,
              "DISPLAY_MODE": "simple",
              "ENABLE_ASSIGNMENT": true,
              "ENABLE_DATALINK": true,
              "FLATTEN_COLUMN_VALUES": true,
              "FLATTEN_INDEX_VALUES": false,
              "GENERATE_DEX_METADATA": false,
              "HTML_TABLE_SCHEMA": false,
              "LOG_LEVEL": 30,
              "MAX_RENDER_SIZE_BYTES": 104857600,
              "MAX_STRING_LENGTH": 250,
              "NUM_PAST_SAMPLES_TRACKED": 3,
              "RANDOM_STATE": 12648430,
              "RESET_INDEX_VALUES": false,
              "ROW_SAMPLING_METHOD": "random",
              "SAMPLING_FACTOR": 0.1,
              "SAMPLING_METHOD": "random",
              "STRINGIFY_COLUMN_VALUES": true,
              "STRINGIFY_INDEX_VALUES": false
            },
            "sample_history": [],
            "sampling_time": "2023-06-20T11:55:28.606856",
            "user_variable_name": null,
            "variable_name": "unk_dataframe_2b38061cfcb9428698d668cce07a9d8e"
          }
        },
        "dx": {
          "dashboard": {
            "multiViews": []
          },
          "fieldMetadata": {},
          "updated": 1687262798942,
          "views": [
            {
              "annotationRules": [],
              "chart": {},
              "chartMode": "empty",
              "confoRules": [],
              "decoration": {
                "footer": "",
                "subtitle": "",
                "title": "New View"
              },
              "facets": [],
              "filterSettings": {
                "SHOW_FILTER_PANEL": true,
                "filters": []
              },
              "id": "af299bb8-25ef-46ea-98b3-1ceb746c4013",
              "isDefault": false,
              "type": "public",
              "userID": ""
            }
          ]
        },
        "noteable": {
          "cell_type": "code",
          "output_collection_id": "02616019-d516-4a5d-9bbf-627eed73a126"
        }
      },
      "outputs": [],
      "source": [
        "# Drop the 'firstName' and 'lastName' columns\n",
        "ufo_df = ufo_df.drop(['firstName', 'lastName'], axis=1)\n",
        "\n",
        "# Group by location (latitude and longitude) and count the number of sightings\n",
        "sightings_by_location = ufo_df.groupby(['latitude', 'longitude']).size()\n",
        "\n",
        "# Display the locations with the highest frequency of UFO sightings\n",
        "sightings_by_location.sort_values(ascending=False).head(10)"
      ]
    },
    {
      "cell_type": "code",
      "execution_count": null,
      "id": "2b7b18d2-3927-4f0b-b02d-557ac9e08f60",
      "metadata": {
        "ExecuteTime": {
          "end_time": "2023-06-20T12:06:54.142557+00:00",
          "start_time": "2023-06-20T12:06:53.667564+00:00"
        },
        "jupyter": {
          "outputs_hidden": false,
          "source_hidden": false
        },
        "noteable": {
          "cell_type": "code",
          "output_collection_id": "c12d0211-58ad-4288-b31e-ded7d53ca9fe"
        }
      },
      "outputs": [],
      "source": [
        "import folium\n",
        "\n",
        "# Create a world map\n",
        "world_map = folium.Map(location=[0, 0], zoom_start=2)\n",
        "\n",
        "# Top 10 locations with the highest frequency of UFO sightings\n",
        "locations = [\n",
        "    [47.6064, -122.331],\n",
        "    [40.7142, -74.0064],\n",
        "    [32.7153, -117.156],\n",
        "    [33.4483, -112.073],\n",
        "    [34.0522, -118.243],\n",
        "    [29.7631, -95.3631],\n",
        "    [36.175, -115.136],\n",
        "    [41.5733, -87.7844],\n",
        "    [37.775, -122.418],\n",
        "    [25.7739, -80.1939]\n",
        "]\n",
        "\n",
        "# Add markers to the map\n",
        "for location in locations:\n",
        "    folium.Marker(location).add_to(world_map)\n",
        "\n",
        "# Display the map\n",
        "world_map\n"
      ]
    }
  ],
  "metadata": {
    "language_info": {
      "name": "python"
    },
    "noteable": {
      "last_transaction_id": "144518b2-882a-407d-b4cb-016b1407aade"
    },
    "noteable-chatgpt": {
      "create_notebook": {
        "openai_conversation_id": "24d343ee-a804-55ad-870f-d05128b19ab0",
        "openai_ephemeral_user_id": "51700ec8-0f1d-5ec4-8564-6e82d31cd026",
        "openai_subdivision1_iso_code": "GB-ENG"
      }
    },
    "selected_hardware_size": "small"
  },
  "nbformat": 4,
  "nbformat_minor": 5
}
